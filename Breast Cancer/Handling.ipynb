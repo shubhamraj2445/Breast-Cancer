{
 "cells": [
  {
   "cell_type": "code",
   "execution_count": 1,
   "id": "b8216721",
   "metadata": {},
   "outputs": [],
   "source": [
    "import numpy as np\n",
    "import pandas as pd\n",
    "import matplotlib.pyplot as plt\n",
    "import seaborn as sns\n",
    "%matplotlib inline\n"
   ]
  },
  {
   "cell_type": "code",
   "execution_count": 2,
   "id": "7efe1527",
   "metadata": {},
   "outputs": [],
   "source": [
    "import warnings\n",
    "warnings.filterwarnings('ignore')"
   ]
  },
  {
   "cell_type": "code",
   "execution_count": 3,
   "id": "16f3bc91",
   "metadata": {},
   "outputs": [
    {
     "data": {
      "text/html": [
       "<div>\n",
       "<style scoped>\n",
       "    .dataframe tbody tr th:only-of-type {\n",
       "        vertical-align: middle;\n",
       "    }\n",
       "\n",
       "    .dataframe tbody tr th {\n",
       "        vertical-align: top;\n",
       "    }\n",
       "\n",
       "    .dataframe thead th {\n",
       "        text-align: right;\n",
       "    }\n",
       "</style>\n",
       "<table border=\"1\" class=\"dataframe\">\n",
       "  <thead>\n",
       "    <tr style=\"text-align: right;\">\n",
       "      <th></th>\n",
       "      <th>id</th>\n",
       "      <th>diagnosis</th>\n",
       "      <th>radius_mean</th>\n",
       "      <th>texture_mean</th>\n",
       "      <th>perimeter_mean</th>\n",
       "      <th>area_mean</th>\n",
       "      <th>smoothness_mean</th>\n",
       "      <th>compactness_mean</th>\n",
       "      <th>concavity_mean</th>\n",
       "      <th>concave_points_mean</th>\n",
       "      <th>...</th>\n",
       "      <th>radius_worst</th>\n",
       "      <th>texture_worst</th>\n",
       "      <th>perimeter_worst</th>\n",
       "      <th>area_worst</th>\n",
       "      <th>smoothness_worst</th>\n",
       "      <th>compactness_worst</th>\n",
       "      <th>concavity_worst</th>\n",
       "      <th>concave_points_worst</th>\n",
       "      <th>symmetry_worst</th>\n",
       "      <th>fractal_dimension_worst</th>\n",
       "    </tr>\n",
       "  </thead>\n",
       "  <tbody>\n",
       "    <tr>\n",
       "      <th>0</th>\n",
       "      <td>842302</td>\n",
       "      <td>M</td>\n",
       "      <td>17.99</td>\n",
       "      <td>10.38</td>\n",
       "      <td>122.80</td>\n",
       "      <td>1001.0</td>\n",
       "      <td>0.11840</td>\n",
       "      <td>0.27760</td>\n",
       "      <td>0.3001</td>\n",
       "      <td>0.14710</td>\n",
       "      <td>...</td>\n",
       "      <td>25.38</td>\n",
       "      <td>17.33</td>\n",
       "      <td>184.60</td>\n",
       "      <td>2019.0</td>\n",
       "      <td>0.1622</td>\n",
       "      <td>0.6656</td>\n",
       "      <td>0.7119</td>\n",
       "      <td>0.2654</td>\n",
       "      <td>0.4601</td>\n",
       "      <td>0.11890</td>\n",
       "    </tr>\n",
       "    <tr>\n",
       "      <th>1</th>\n",
       "      <td>842517</td>\n",
       "      <td>M</td>\n",
       "      <td>20.57</td>\n",
       "      <td>17.77</td>\n",
       "      <td>132.90</td>\n",
       "      <td>1326.0</td>\n",
       "      <td>0.08474</td>\n",
       "      <td>0.07864</td>\n",
       "      <td>0.0869</td>\n",
       "      <td>0.07017</td>\n",
       "      <td>...</td>\n",
       "      <td>24.99</td>\n",
       "      <td>23.41</td>\n",
       "      <td>158.80</td>\n",
       "      <td>1956.0</td>\n",
       "      <td>0.1238</td>\n",
       "      <td>0.1866</td>\n",
       "      <td>0.2416</td>\n",
       "      <td>0.1860</td>\n",
       "      <td>0.2750</td>\n",
       "      <td>0.08902</td>\n",
       "    </tr>\n",
       "    <tr>\n",
       "      <th>2</th>\n",
       "      <td>84300903</td>\n",
       "      <td>M</td>\n",
       "      <td>19.69</td>\n",
       "      <td>21.25</td>\n",
       "      <td>130.00</td>\n",
       "      <td>1203.0</td>\n",
       "      <td>0.10960</td>\n",
       "      <td>0.15990</td>\n",
       "      <td>0.1974</td>\n",
       "      <td>0.12790</td>\n",
       "      <td>...</td>\n",
       "      <td>23.57</td>\n",
       "      <td>25.53</td>\n",
       "      <td>152.50</td>\n",
       "      <td>1709.0</td>\n",
       "      <td>0.1444</td>\n",
       "      <td>0.4245</td>\n",
       "      <td>0.4504</td>\n",
       "      <td>0.2430</td>\n",
       "      <td>0.3613</td>\n",
       "      <td>0.08758</td>\n",
       "    </tr>\n",
       "    <tr>\n",
       "      <th>3</th>\n",
       "      <td>84348301</td>\n",
       "      <td>M</td>\n",
       "      <td>11.42</td>\n",
       "      <td>20.38</td>\n",
       "      <td>77.58</td>\n",
       "      <td>386.1</td>\n",
       "      <td>0.14250</td>\n",
       "      <td>0.28390</td>\n",
       "      <td>0.2414</td>\n",
       "      <td>0.10520</td>\n",
       "      <td>...</td>\n",
       "      <td>14.91</td>\n",
       "      <td>26.50</td>\n",
       "      <td>98.87</td>\n",
       "      <td>567.7</td>\n",
       "      <td>0.2098</td>\n",
       "      <td>0.8663</td>\n",
       "      <td>0.6869</td>\n",
       "      <td>0.2575</td>\n",
       "      <td>0.6638</td>\n",
       "      <td>0.17300</td>\n",
       "    </tr>\n",
       "    <tr>\n",
       "      <th>4</th>\n",
       "      <td>84358402</td>\n",
       "      <td>M</td>\n",
       "      <td>20.29</td>\n",
       "      <td>14.34</td>\n",
       "      <td>135.10</td>\n",
       "      <td>1297.0</td>\n",
       "      <td>0.10030</td>\n",
       "      <td>0.13280</td>\n",
       "      <td>0.1980</td>\n",
       "      <td>0.10430</td>\n",
       "      <td>...</td>\n",
       "      <td>22.54</td>\n",
       "      <td>16.67</td>\n",
       "      <td>152.20</td>\n",
       "      <td>1575.0</td>\n",
       "      <td>0.1374</td>\n",
       "      <td>0.2050</td>\n",
       "      <td>0.4000</td>\n",
       "      <td>0.1625</td>\n",
       "      <td>0.2364</td>\n",
       "      <td>0.07678</td>\n",
       "    </tr>\n",
       "  </tbody>\n",
       "</table>\n",
       "<p>5 rows × 32 columns</p>\n",
       "</div>"
      ],
      "text/plain": [
       "         id diagnosis  radius_mean  texture_mean  perimeter_mean  area_mean  \\\n",
       "0    842302         M        17.99         10.38          122.80     1001.0   \n",
       "1    842517         M        20.57         17.77          132.90     1326.0   \n",
       "2  84300903         M        19.69         21.25          130.00     1203.0   \n",
       "3  84348301         M        11.42         20.38           77.58      386.1   \n",
       "4  84358402         M        20.29         14.34          135.10     1297.0   \n",
       "\n",
       "   smoothness_mean  compactness_mean  concavity_mean  concave_points_mean  \\\n",
       "0          0.11840           0.27760          0.3001              0.14710   \n",
       "1          0.08474           0.07864          0.0869              0.07017   \n",
       "2          0.10960           0.15990          0.1974              0.12790   \n",
       "3          0.14250           0.28390          0.2414              0.10520   \n",
       "4          0.10030           0.13280          0.1980              0.10430   \n",
       "\n",
       "   ...  radius_worst  texture_worst  perimeter_worst  area_worst  \\\n",
       "0  ...         25.38          17.33           184.60      2019.0   \n",
       "1  ...         24.99          23.41           158.80      1956.0   \n",
       "2  ...         23.57          25.53           152.50      1709.0   \n",
       "3  ...         14.91          26.50            98.87       567.7   \n",
       "4  ...         22.54          16.67           152.20      1575.0   \n",
       "\n",
       "   smoothness_worst  compactness_worst  concavity_worst  concave_points_worst  \\\n",
       "0            0.1622             0.6656           0.7119                0.2654   \n",
       "1            0.1238             0.1866           0.2416                0.1860   \n",
       "2            0.1444             0.4245           0.4504                0.2430   \n",
       "3            0.2098             0.8663           0.6869                0.2575   \n",
       "4            0.1374             0.2050           0.4000                0.1625   \n",
       "\n",
       "   symmetry_worst  fractal_dimension_worst  \n",
       "0          0.4601                  0.11890  \n",
       "1          0.2750                  0.08902  \n",
       "2          0.3613                  0.08758  \n",
       "3          0.6638                  0.17300  \n",
       "4          0.2364                  0.07678  \n",
       "\n",
       "[5 rows x 32 columns]"
      ]
     },
     "execution_count": 3,
     "metadata": {},
     "output_type": "execute_result"
    }
   ],
   "source": [
    "defaulter_df = pd.read_csv(\"data.csv\")\n",
    "defaulter_df.head()"
   ]
  },
  {
   "cell_type": "code",
   "execution_count": 4,
   "id": "fe0e139b",
   "metadata": {},
   "outputs": [
    {
     "name": "stdout",
     "output_type": "stream",
     "text": [
      "Size of the data :  (569, 32)\n"
     ]
    }
   ],
   "source": [
    "print(\"Size of the data : \", defaulter_df.shape)"
   ]
  },
  {
   "cell_type": "code",
   "execution_count": 5,
   "id": "59716a2e",
   "metadata": {},
   "outputs": [
    {
     "name": "stdout",
     "output_type": "stream",
     "text": [
      "Target variable frequency distribution : \n",
      " B    357\n",
      "M    212\n",
      "Name: diagnosis, dtype: int64\n"
     ]
    }
   ],
   "source": [
    "print(\"Target variable frequency distribution : \\n\", defaulter_df[\"diagnosis\"].value_counts())"
   ]
  },
  {
   "cell_type": "code",
   "execution_count": 6,
   "id": "f0122f68",
   "metadata": {},
   "outputs": [
    {
     "data": {
      "image/png": "[encoded data removed]",
      "text/plain": [
       "<Figure size 1000x800 with 1 Axes>"
      ]
     },
     "metadata": {},
     "output_type": "display_data"
    }
   ],
   "source": [
    "plt.figure(figsize=(10, 8))\n",
    "sns.countplot(data=defaulter_df, x=\"diagnosis\")\n",
    "plt.title(\"Frequency distribution of the target variable - Diagnosis\")\n",
    "plt.show()"
   ]
  },
  {
   "cell_type": "code",
   "execution_count": 7,
   "id": "dc7a4328",
   "metadata": {},
   "outputs": [],
   "source": [
    "X = defaulter_df[[\"radius_mean\", \"perimeter_mean\"]]\n",
    "y = defaulter_df[\"diagnosis\"]"
   ]
  },
  {
   "cell_type": "markdown",
   "id": "0b678054",
   "metadata": {},
   "source": [
    "# Train-Test Split"
   ]
  },
  {
   "cell_type": "code",
   "execution_count": 8,
   "id": "4fd1b351",
   "metadata": {},
   "outputs": [],
   "source": [
    "from sklearn.model_selection import train_test_split"
   ]
  },
  {
   "cell_type": "code",
   "execution_count": 9,
   "id": "c2504355",
   "metadata": {},
   "outputs": [],
   "source": [
    "X_train, X_test, y_train, y_test = train_test_split(X,y, test_size = 0.2, random_state = 42)"
   ]
  },
  {
   "cell_type": "code",
   "execution_count": 10,
   "id": "e469efc6",
   "metadata": {},
   "outputs": [
    {
     "name": "stdout",
     "output_type": "stream",
     "text": [
      "Size of training data :  455\n",
      "Size of test data :  114\n"
     ]
    }
   ],
   "source": [
    "print(\"Size of training data : \", X_train.shape[0])\n",
    "print(\"Size of test data : \", X_test.shape[0])"
   ]
  },
  {
   "cell_type": "markdown",
   "id": "74e4a134",
   "metadata": {},
   "source": [
    "# Normalization"
   ]
  },
  {
   "cell_type": "code",
   "execution_count": 11,
   "id": "edfcc8b7",
   "metadata": {},
   "outputs": [],
   "source": [
    "from sklearn.preprocessing import MinMaxScaler"
   ]
  },
  {
   "cell_type": "code",
   "execution_count": 12,
   "id": "d60653b0",
   "metadata": {},
   "outputs": [
    {
     "data": {
      "text/plain": [
       "array([[ 2.34046721e-01,  2.35951060e-01],\n",
       "       [ 5.50908468e-01,  5.38341158e-01],\n",
       "       [ 3.80478966e-01,  3.82557974e-01],\n",
       "       [ 2.30618542e-01,  2.38654147e-01],\n",
       "       [ 1.88500906e-01,  1.90140845e-01],\n",
       "       [ 6.32205299e-01,  6.55712050e-01],\n",
       "       [ 7.01258632e-01,  7.06217101e-01],\n",
       "       [ 4.83814095e-01,  4.77166026e-01],\n",
       "       [ 2.76654097e-01,  2.74363352e-01],\n",
       "       [ 3.04079534e-01,  2.92004553e-01],\n",
       "       [ 2.70287477e-01,  2.57362356e-01],\n",
       "       [ 4.45124639e-01,  4.36619718e-01],\n",
       "       [ 3.56481708e-01,  3.38454972e-01],\n",
       "       [ 4.19658162e-01,  4.23815621e-01],\n",
       "       [ 2.27680102e-01,  2.20657277e-01],\n",
       "       [ 5.58744307e-01,  5.77464789e-01],\n",
       "       [ 3.48645869e-01,  3.32479727e-01],\n",
       "       [ 1.20916793e-01,  1.19576042e-01],\n",
       "       [-3.47715363e-02, -2.93782899e-02],\n",
       "       [ 6.29756599e-01,  6.39351259e-01],\n",
       "       [ 2.99182134e-01,  3.02390098e-01],\n",
       "       [ 2.15926343e-01,  2.14468630e-01],\n",
       "       [ 6.81669034e-01,  6.86299616e-01],\n",
       "       [ 1.14550174e-01,  1.08621426e-01],\n",
       "       [ 1.91439346e-01,  1.87153222e-01],\n",
       "       [ 2.85959156e-01,  2.84464362e-01],\n",
       "       [ 2.73715657e-01,  2.69383981e-01],\n",
       "       [ 1.27283413e-01,  1.26262626e-01],\n",
       "       [ 2.48249180e-01,  2.41499502e-01],\n",
       "       [ 4.65693717e-01,  4.71475317e-01],\n",
       "       [ 1.68421568e-01,  1.67662541e-01],\n",
       "       [ 2.13967383e-01,  2.05719163e-01],\n",
       "       [ 1.00445663e-01,  9.96585574e-02],\n",
       "       [ 2.93305255e-01,  2.83397354e-01],\n",
       "       [ 1.21896273e-01,  1.22350263e-01],\n",
       "       [ 1.87521426e-01,  1.80822308e-01],\n",
       "       [ 4.07904403e-01,  3.89671362e-01],\n",
       "       [ 1.98295705e-01,  1.87224356e-01],\n",
       "       [ 5.17116411e-01,  5.09887608e-01],\n",
       "       [ 3.39340810e-01,  3.31839522e-01],\n",
       "       [ 1.37078211e-01,  1.38639920e-01],\n",
       "       [ 3.61868848e-01,  3.56238441e-01],\n",
       "       [ 1.91929086e-01,  1.95902689e-01],\n",
       "       [ 2.03193104e-01,  1.96258358e-01],\n",
       "       [ 2.05641804e-01,  2.01166596e-01],\n",
       "       [ 1.78706107e-01,  1.74704794e-01],\n",
       "       [ 7.85542877e-02,  8.56451842e-02],\n",
       "       [ 8.48229590e-02,  8.06658131e-02],\n",
       "       [ 1.94867525e-01,  1.94124342e-01],\n",
       "       [ 2.54615799e-01,  2.57220088e-01],\n",
       "       [ 4.65203977e-01,  4.52980509e-01],\n",
       "       [ 5.35726529e-01,  5.46877223e-01],\n",
       "       [ 2.65390078e-01,  2.78133447e-01],\n",
       "       [ 3.06038494e-01,  3.01536492e-01],\n",
       "       [ 2.06131544e-01,  2.14753165e-01],\n",
       "       [ 2.68328518e-01,  2.58642766e-01],\n",
       "       [ 1.25324453e-01,  1.32309006e-01],\n",
       "       [ 8.58465155e-01,  8.79072414e-01],\n",
       "       [ 2.83510456e-01,  2.87949922e-01],\n",
       "       [ 1.76257407e-01,  1.72926448e-01],\n",
       "       [ 2.53146579e-01,  2.50889173e-01],\n",
       "       [ 5.87638964e-01,  5.83866837e-01],\n",
       "       [ 6.79220334e-01,  6.69227486e-01],\n",
       "       [ 3.28566531e-01,  3.15336463e-01],\n",
       "       [ 2.25721142e-01,  2.13117086e-01],\n",
       "       [ 2.41392820e-01,  2.37800541e-01],\n",
       "       [ 3.96150644e-01,  4.11011524e-01],\n",
       "       [ 6.11636221e-01,  6.81320245e-01],\n",
       "       [ 2.01723885e-01,  1.94551145e-01],\n",
       "       [ 2.59023459e-01,  2.60349979e-01],\n",
       "       [ 2.97712914e-01,  3.03812776e-01],\n",
       "       [ 3.96150644e-01,  3.96073410e-01],\n",
       "       [ 3.11915373e-01,  2.97552995e-01],\n",
       "       [ 4.29452960e-01,  4.36619718e-01],\n",
       "       [ 1.86101180e-03,  4.26803244e-04],\n",
       "       [ 2.83020716e-01,  2.80267463e-01],\n",
       "       [ 3.10446153e-01,  2.97837530e-01],\n",
       "       [ 3.07017973e-01,  3.09503486e-01],\n",
       "       [ 1.49811450e-01,  1.44686300e-01],\n",
       "       [ 1.75277927e-01,  1.79541898e-01],\n",
       "       [ 4.14760762e-01,  4.14568217e-01],\n",
       "       [ 1.74298448e-01,  1.66880068e-01],\n",
       "       [ 3.32484451e-01,  3.29563238e-01],\n",
       "       [ 6.48856457e-01,  6.47175985e-01],\n",
       "       [ 5.01444733e-01,  4.78588704e-01],\n",
       "       [ 3.73622606e-01,  3.93228055e-01],\n",
       "       [ 2.33556981e-01,  2.56437616e-01],\n",
       "       [ 4.85283315e-01,  5.05619576e-01],\n",
       "       [ 2.13477643e-01,  2.19305733e-01],\n",
       "       [ 2.53146579e-01,  2.48257220e-01],\n",
       "       [ 2.11028944e-01,  2.06501636e-01],\n",
       "       [ 2.82530976e-01,  2.81121070e-01],\n",
       "       [ 3.59909888e-01,  3.61431214e-01],\n",
       "       [ 1.71849748e-01,  1.61829563e-01],\n",
       "       [ 1.72829228e-01,  1.70863565e-01],\n",
       "       [ 1.02159753e-01,  1.03713188e-01],\n",
       "       [ 6.09187521e-01,  5.92402902e-01],\n",
       "       [ 2.99671874e-01,  3.10428226e-01],\n",
       "       [ 1.69401048e-01,  1.63252241e-01],\n",
       "       [ 4.69121896e-01,  4.58671219e-01],\n",
       "       [ 3.92232724e-01,  3.79001280e-01],\n",
       "       [ 1.00249767e-01,  9.47503201e-02],\n",
       "       [ 5.07321612e-01,  5.14155641e-01],\n",
       "       [ 5.04383173e-01,  4.97083511e-01],\n",
       "       [ 1.53239630e-01,  1.49167734e-01],\n",
       "       [ 1.98785445e-01,  1.98961445e-01],\n",
       "       [ 2.27680102e-01,  2.27130460e-01],\n",
       "       [ 7.54150546e-01,  7.41072699e-01],\n",
       "       [ 3.30525491e-01,  3.27571490e-01],\n",
       "       [ 3.40320290e-01,  3.29278703e-01],\n",
       "       [ 4.10353103e-01,  3.99630104e-01],\n",
       "       [ 1.87521426e-01,  1.84592403e-01],\n",
       "       [ 3.19751212e-01,  3.17470479e-01],\n",
       "       [ 6.38571918e-01,  6.24413146e-01]])"
      ]
     },
     "execution_count": 12,
     "metadata": {},
     "output_type": "execute_result"
    }
   ],
   "source": [
    "min_max = MinMaxScaler()\n",
    "min_max.fit(X_train)\n",
    "train_transformed = min_max.transform(X_train)\n",
    "transformed = min_max.transform(X_test)\n",
    "transformed\n"
   ]
  },
  {
   "cell_type": "code",
   "execution_count": 13,
   "id": "442777f0",
   "metadata": {},
   "outputs": [
    {
     "data": {
      "text/html": [
       "<div>\n",
       "<style scoped>\n",
       "    .dataframe tbody tr th:only-of-type {\n",
       "        vertical-align: middle;\n",
       "    }\n",
       "\n",
       "    .dataframe tbody tr th {\n",
       "        vertical-align: top;\n",
       "    }\n",
       "\n",
       "    .dataframe thead th {\n",
       "        text-align: right;\n",
       "    }\n",
       "</style>\n",
       "<table border=\"1\" class=\"dataframe\">\n",
       "  <thead>\n",
       "    <tr style=\"text-align: right;\">\n",
       "      <th></th>\n",
       "      <th>radius_mean</th>\n",
       "      <th>perimeter_mean</th>\n",
       "      <th>radius_mean_normalized</th>\n",
       "      <th>perimeter_mean_normalized</th>\n",
       "    </tr>\n",
       "  </thead>\n",
       "  <tbody>\n",
       "    <tr>\n",
       "      <th>68</th>\n",
       "      <td>9.029</td>\n",
       "      <td>58.79</td>\n",
       "      <td>0.065527</td>\n",
       "      <td>0.077323</td>\n",
       "    </tr>\n",
       "    <tr>\n",
       "      <th>181</th>\n",
       "      <td>21.090</td>\n",
       "      <td>142.70</td>\n",
       "      <td>0.656203</td>\n",
       "      <td>0.674207</td>\n",
       "    </tr>\n",
       "    <tr>\n",
       "      <th>63</th>\n",
       "      <td>9.173</td>\n",
       "      <td>59.20</td>\n",
       "      <td>0.072579</td>\n",
       "      <td>0.080239</td>\n",
       "    </tr>\n",
       "    <tr>\n",
       "      <th>248</th>\n",
       "      <td>10.650</td>\n",
       "      <td>68.01</td>\n",
       "      <td>0.144914</td>\n",
       "      <td>0.142908</td>\n",
       "    </tr>\n",
       "    <tr>\n",
       "      <th>60</th>\n",
       "      <td>10.170</td>\n",
       "      <td>64.55</td>\n",
       "      <td>0.121407</td>\n",
       "      <td>0.118296</td>\n",
       "    </tr>\n",
       "  </tbody>\n",
       "</table>\n",
       "</div>"
      ],
      "text/plain": [
       "     radius_mean  perimeter_mean  radius_mean_normalized  \\\n",
       "68         9.029           58.79                0.065527   \n",
       "181       21.090          142.70                0.656203   \n",
       "63         9.173           59.20                0.072579   \n",
       "248       10.650           68.01                0.144914   \n",
       "60        10.170           64.55                0.121407   \n",
       "\n",
       "     perimeter_mean_normalized  \n",
       "68                    0.077323  \n",
       "181                   0.674207  \n",
       "63                    0.080239  \n",
       "248                   0.142908  \n",
       "60                    0.118296  "
      ]
     },
     "execution_count": 13,
     "metadata": {},
     "output_type": "execute_result"
    }
   ],
   "source": [
    "X_train[\"radius_mean_normalized\"] = train_transformed[:,0]\n",
    "X_train[\"perimeter_mean_normalized\"] = train_transformed[:,1]\n",
    "X_train.head()"
   ]
  },
  {
   "cell_type": "code",
   "execution_count": 14,
   "id": "19623e79",
   "metadata": {},
   "outputs": [
    {
     "data": {
      "text/html": [
       "<div>\n",
       "<style scoped>\n",
       "    .dataframe tbody tr th:only-of-type {\n",
       "        vertical-align: middle;\n",
       "    }\n",
       "\n",
       "    .dataframe tbody tr th {\n",
       "        vertical-align: top;\n",
       "    }\n",
       "\n",
       "    .dataframe thead th {\n",
       "        text-align: right;\n",
       "    }\n",
       "</style>\n",
       "<table border=\"1\" class=\"dataframe\">\n",
       "  <thead>\n",
       "    <tr style=\"text-align: right;\">\n",
       "      <th></th>\n",
       "      <th>radius_mean</th>\n",
       "      <th>perimeter_mean</th>\n",
       "      <th>radius_mean_normalized</th>\n",
       "      <th>perimeter_mean_normalized</th>\n",
       "    </tr>\n",
       "  </thead>\n",
       "  <tbody>\n",
       "    <tr>\n",
       "      <th>204</th>\n",
       "      <td>12.47</td>\n",
       "      <td>81.09</td>\n",
       "      <td>0.234047</td>\n",
       "      <td>0.235951</td>\n",
       "    </tr>\n",
       "    <tr>\n",
       "      <th>70</th>\n",
       "      <td>18.94</td>\n",
       "      <td>123.60</td>\n",
       "      <td>0.550908</td>\n",
       "      <td>0.538341</td>\n",
       "    </tr>\n",
       "    <tr>\n",
       "      <th>131</th>\n",
       "      <td>15.46</td>\n",
       "      <td>101.70</td>\n",
       "      <td>0.380479</td>\n",
       "      <td>0.382558</td>\n",
       "    </tr>\n",
       "    <tr>\n",
       "      <th>431</th>\n",
       "      <td>12.40</td>\n",
       "      <td>81.47</td>\n",
       "      <td>0.230619</td>\n",
       "      <td>0.238654</td>\n",
       "    </tr>\n",
       "    <tr>\n",
       "      <th>540</th>\n",
       "      <td>11.54</td>\n",
       "      <td>74.65</td>\n",
       "      <td>0.188501</td>\n",
       "      <td>0.190141</td>\n",
       "    </tr>\n",
       "  </tbody>\n",
       "</table>\n",
       "</div>"
      ],
      "text/plain": [
       "     radius_mean  perimeter_mean  radius_mean_normalized  \\\n",
       "204        12.47           81.09                0.234047   \n",
       "70         18.94          123.60                0.550908   \n",
       "131        15.46          101.70                0.380479   \n",
       "431        12.40           81.47                0.230619   \n",
       "540        11.54           74.65                0.188501   \n",
       "\n",
       "     perimeter_mean_normalized  \n",
       "204                   0.235951  \n",
       "70                    0.538341  \n",
       "131                   0.382558  \n",
       "431                   0.238654  \n",
       "540                   0.190141  "
      ]
     },
     "execution_count": 14,
     "metadata": {},
     "output_type": "execute_result"
    }
   ],
   "source": [
    "X_test[\"radius_mean_normalized\"] = transformed[:,0]\n",
    "X_test[\"perimeter_mean_normalized\"] = transformed[:,1]\n",
    "X_test.head()"
   ]
  },
  {
   "cell_type": "code",
   "execution_count": 15,
   "id": "2fbc24a2",
   "metadata": {},
   "outputs": [],
   "source": [
    "from sklearn.neighbors import KNeighborsClassifier\n",
    "from sklearn.metrics import accuracy_score"
   ]
  },
  {
   "cell_type": "code",
   "execution_count": 16,
   "id": "cbd17591",
   "metadata": {},
   "outputs": [
    {
     "data": {
      "text/plain": [
       "0.9210526315789473"
      ]
     },
     "execution_count": 16,
     "metadata": {},
     "output_type": "execute_result"
    }
   ],
   "source": [
    "knn =  KNeighborsClassifier(n_neighbors = 5, metric = \"euclidean\")\n",
    "knn.fit(X_train[[\"radius_mean\",\"perimeter_mean\"]], y_train)\n",
    "predictions = knn.predict(X_test[[\"radius_mean\",\"perimeter_mean\"]])\n",
    "test_accuracy = accuracy_score(y_test, predictions)\n",
    "test_accuracy"
   ]
  },
  {
   "cell_type": "code",
   "execution_count": 18,
   "id": "45e0efc8",
   "metadata": {},
   "outputs": [
    {
     "data": {
      "text/plain": [
       "0.9473684210526315"
      ]
     },
     "execution_count": 18,
     "metadata": {},
     "output_type": "execute_result"
    }
   ],
   "source": [
    "knn =  KNeighborsClassifier(n_neighbors = 5, metric = \"euclidean\")\n",
    "knn.fit(X_train[[\"radius_mean_normalized\",\"perimeter_mean_normalized\"]], y_train)\n",
    "predictions = knn.predict(X_test[[\"radius_mean_normalized\",\"perimeter_mean_normalized\"]])\n",
    "test_accuracy = accuracy_score(y_test, predictions)\n",
    "test_accuracy"
   ]
  },
  {
   "cell_type": "code",
   "execution_count": 19,
   "id": "70f8af23",
   "metadata": {},
   "outputs": [],
   "source": [
    "from sklearn.metrics import confusion_matrix \n",
    "from sklearn.metrics import classification_report"
   ]
  },
  {
   "cell_type": "code",
   "execution_count": 20,
   "id": "5a73847c",
   "metadata": {},
   "outputs": [
    {
     "data": {
      "text/html": [
       "<div>\n",
       "<style scoped>\n",
       "    .dataframe tbody tr th:only-of-type {\n",
       "        vertical-align: middle;\n",
       "    }\n",
       "\n",
       "    .dataframe tbody tr th {\n",
       "        vertical-align: top;\n",
       "    }\n",
       "\n",
       "    .dataframe thead th {\n",
       "        text-align: right;\n",
       "    }\n",
       "</style>\n",
       "<table border=\"1\" class=\"dataframe\">\n",
       "  <thead>\n",
       "    <tr style=\"text-align: right;\">\n",
       "      <th></th>\n",
       "      <th>B</th>\n",
       "      <th>M</th>\n",
       "    </tr>\n",
       "  </thead>\n",
       "  <tbody>\n",
       "    <tr>\n",
       "      <th>B</th>\n",
       "      <td>69</td>\n",
       "      <td>2</td>\n",
       "    </tr>\n",
       "    <tr>\n",
       "      <th>M</th>\n",
       "      <td>4</td>\n",
       "      <td>39</td>\n",
       "    </tr>\n",
       "  </tbody>\n",
       "</table>\n",
       "</div>"
      ],
      "text/plain": [
       "    B   M\n",
       "B  69   2\n",
       "M   4  39"
      ]
     },
     "execution_count": 20,
     "metadata": {},
     "output_type": "execute_result"
    }
   ],
   "source": [
    "cm = confusion_matrix(y_test, predictions)\n",
    "pd.DataFrame(cm, columns = [\"B\",\"M\"], index = [\"B\",\"M\"])"
   ]
  },
  {
   "cell_type": "code",
   "execution_count": 21,
   "id": "2dfe6f5e",
   "metadata": {},
   "outputs": [
    {
     "name": "stdout",
     "output_type": "stream",
     "text": [
      "              precision    recall  f1-score   support\n",
      "\n",
      "           B       0.95      0.97      0.96        71\n",
      "           M       0.95      0.91      0.93        43\n",
      "\n",
      "    accuracy                           0.95       114\n",
      "   macro avg       0.95      0.94      0.94       114\n",
      "weighted avg       0.95      0.95      0.95       114\n",
      "\n"
     ]
    }
   ],
   "source": [
    "print(classification_report(y_test,predictions))"
   ]
  },
  {
   "cell_type": "markdown",
   "id": "e9021f06",
   "metadata": {},
   "source": [
    "# Sampling Techniques to handle imbalanced Dataset"
   ]
  },
  {
   "cell_type": "markdown",
   "id": "f0a20e39",
   "metadata": {},
   "source": [
    "## 1. UnderSampling (downsampling)"
   ]
  },
  {
   "cell_type": "code",
   "execution_count": 22,
   "id": "1ef147ab",
   "metadata": {},
   "outputs": [],
   "source": [
    "from imblearn.under_sampling import RandomUnderSampler"
   ]
  },
  {
   "cell_type": "code",
   "execution_count": 23,
   "id": "43d15ce0",
   "metadata": {},
   "outputs": [
    {
     "name": "stdout",
     "output_type": "stream",
     "text": [
      "Before undersampling: \n",
      " B    286\n",
      "M    169\n",
      "Name: diagnosis, dtype: int64\n"
     ]
    }
   ],
   "source": [
    "print(\"Before undersampling: \\n\", y_train.value_counts())"
   ]
  },
  {
   "cell_type": "code",
   "execution_count": 24,
   "id": "44c17823",
   "metadata": {},
   "outputs": [],
   "source": [
    "under_sampling = RandomUnderSampler(random_state=42, replacement=True)# fit predictor and target variable\n",
    "X_train_under, y_train_under  = under_sampling.fit_resample(X_train, y_train)"
   ]
  },
  {
   "cell_type": "code",
   "execution_count": 25,
   "id": "1c35dccd",
   "metadata": {},
   "outputs": [
    {
     "name": "stdout",
     "output_type": "stream",
     "text": [
      "After undersampling: \n",
      " B    169\n",
      "M    169\n",
      "Name: diagnosis, dtype: int64\n"
     ]
    }
   ],
   "source": [
    "print(\"After undersampling: \\n\", y_train_under.value_counts())"
   ]
  },
  {
   "cell_type": "code",
   "execution_count": 26,
   "id": "b172163f",
   "metadata": {},
   "outputs": [
    {
     "data": {
      "text/plain": [
       "0.9298245614035088"
      ]
     },
     "execution_count": 26,
     "metadata": {},
     "output_type": "execute_result"
    }
   ],
   "source": [
    "knn =  KNeighborsClassifier(n_neighbors = 5, metric = \"euclidean\")\n",
    "knn.fit(X_train_under[[\"radius_mean_normalized\",\"perimeter_mean_normalized\"]], y_train_under)\n",
    "predictions = knn.predict(X_test[[\"radius_mean_normalized\",\"perimeter_mean_normalized\"]])\n",
    "test_accuracy = accuracy_score(y_test, predictions)\n",
    "test_accuracy"
   ]
  },
  {
   "cell_type": "code",
   "execution_count": 27,
   "id": "f04014a3",
   "metadata": {},
   "outputs": [
    {
     "data": {
      "text/html": [
       "<div>\n",
       "<style scoped>\n",
       "    .dataframe tbody tr th:only-of-type {\n",
       "        vertical-align: middle;\n",
       "    }\n",
       "\n",
       "    .dataframe tbody tr th {\n",
       "        vertical-align: top;\n",
       "    }\n",
       "\n",
       "    .dataframe thead th {\n",
       "        text-align: right;\n",
       "    }\n",
       "</style>\n",
       "<table border=\"1\" class=\"dataframe\">\n",
       "  <thead>\n",
       "    <tr style=\"text-align: right;\">\n",
       "      <th></th>\n",
       "      <th>B</th>\n",
       "      <th>M</th>\n",
       "    </tr>\n",
       "  </thead>\n",
       "  <tbody>\n",
       "    <tr>\n",
       "      <th>B</th>\n",
       "      <td>66</td>\n",
       "      <td>5</td>\n",
       "    </tr>\n",
       "    <tr>\n",
       "      <th>M</th>\n",
       "      <td>3</td>\n",
       "      <td>40</td>\n",
       "    </tr>\n",
       "  </tbody>\n",
       "</table>\n",
       "</div>"
      ],
      "text/plain": [
       "    B   M\n",
       "B  66   5\n",
       "M   3  40"
      ]
     },
     "execution_count": 27,
     "metadata": {},
     "output_type": "execute_result"
    }
   ],
   "source": [
    "cm = confusion_matrix(y_test, predictions)\n",
    "pd.DataFrame(cm, columns = [\"B\",\"M\"], index = [\"B\",\"M\"])"
   ]
  },
  {
   "cell_type": "code",
   "execution_count": 28,
   "id": "09acb527",
   "metadata": {},
   "outputs": [
    {
     "name": "stdout",
     "output_type": "stream",
     "text": [
      "              precision    recall  f1-score   support\n",
      "\n",
      "           B       0.96      0.93      0.94        71\n",
      "           M       0.89      0.93      0.91        43\n",
      "\n",
      "    accuracy                           0.93       114\n",
      "   macro avg       0.92      0.93      0.93       114\n",
      "weighted avg       0.93      0.93      0.93       114\n",
      "\n"
     ]
    }
   ],
   "source": [
    "print(classification_report(y_test,predictions))"
   ]
  },
  {
   "cell_type": "markdown",
   "id": "4c077021",
   "metadata": {},
   "source": [
    "## 2. OverSampling(Up Sampling)"
   ]
  },
  {
   "cell_type": "code",
   "execution_count": 29,
   "id": "b42cec15",
   "metadata": {},
   "outputs": [],
   "source": [
    "from imblearn.over_sampling import RandomOverSampler"
   ]
  },
  {
   "cell_type": "code",
   "execution_count": 30,
   "id": "c6cc9405",
   "metadata": {},
   "outputs": [
    {
     "name": "stdout",
     "output_type": "stream",
     "text": [
      "Before oversampling: \n",
      " B    286\n",
      "M    169\n",
      "Name: diagnosis, dtype: int64\n"
     ]
    }
   ],
   "source": [
    "print(\"Before oversampling: \\n\", y_train.value_counts())"
   ]
  },
  {
   "cell_type": "code",
   "execution_count": 31,
   "id": "3582e55b",
   "metadata": {},
   "outputs": [],
   "source": [
    "over_sampling = RandomOverSampler(random_state=42)\n",
    "X_train_over, y_train_over  = over_sampling.fit_resample(X_train, y_train)"
   ]
  },
  {
   "cell_type": "code",
   "execution_count": 32,
   "id": "70a3ccc5",
   "metadata": {},
   "outputs": [
    {
     "name": "stdout",
     "output_type": "stream",
     "text": [
      "After oversampling: \n",
      " B    286\n",
      "M    286\n",
      "Name: diagnosis, dtype: int64\n"
     ]
    }
   ],
   "source": [
    "print(\"After oversampling: \\n\", y_train_over.value_counts())"
   ]
  },
  {
   "cell_type": "code",
   "execution_count": 33,
   "id": "e228b26a",
   "metadata": {},
   "outputs": [
    {
     "data": {
      "text/plain": [
       "0.9035087719298246"
      ]
     },
     "execution_count": 33,
     "metadata": {},
     "output_type": "execute_result"
    }
   ],
   "source": [
    "knn =  KNeighborsClassifier(n_neighbors = 5, metric = \"euclidean\")\n",
    "knn.fit(X_train_over[[\"radius_mean_normalized\",\"perimeter_mean_normalized\"]], y_train_over)\n",
    "predictions = knn.predict(X_test[[\"radius_mean_normalized\",\"perimeter_mean_normalized\"]])\n",
    "test_accuracy = accuracy_score(y_test, predictions)\n",
    "test_accuracy"
   ]
  },
  {
   "cell_type": "code",
   "execution_count": 34,
   "id": "dff30384",
   "metadata": {},
   "outputs": [
    {
     "data": {
      "text/html": [
       "<div>\n",
       "<style scoped>\n",
       "    .dataframe tbody tr th:only-of-type {\n",
       "        vertical-align: middle;\n",
       "    }\n",
       "\n",
       "    .dataframe tbody tr th {\n",
       "        vertical-align: top;\n",
       "    }\n",
       "\n",
       "    .dataframe thead th {\n",
       "        text-align: right;\n",
       "    }\n",
       "</style>\n",
       "<table border=\"1\" class=\"dataframe\">\n",
       "  <thead>\n",
       "    <tr style=\"text-align: right;\">\n",
       "      <th></th>\n",
       "      <th>B</th>\n",
       "      <th>M</th>\n",
       "    </tr>\n",
       "  </thead>\n",
       "  <tbody>\n",
       "    <tr>\n",
       "      <th>B</th>\n",
       "      <td>62</td>\n",
       "      <td>9</td>\n",
       "    </tr>\n",
       "    <tr>\n",
       "      <th>M</th>\n",
       "      <td>2</td>\n",
       "      <td>41</td>\n",
       "    </tr>\n",
       "  </tbody>\n",
       "</table>\n",
       "</div>"
      ],
      "text/plain": [
       "    B   M\n",
       "B  62   9\n",
       "M   2  41"
      ]
     },
     "execution_count": 34,
     "metadata": {},
     "output_type": "execute_result"
    }
   ],
   "source": [
    "cm = confusion_matrix(y_test, predictions)\n",
    "pd.DataFrame(cm, columns = [\"B\",\"M\"], index = [\"B\",\"M\"])"
   ]
  },
  {
   "cell_type": "code",
   "execution_count": 35,
   "id": "98b2a976",
   "metadata": {},
   "outputs": [
    {
     "name": "stdout",
     "output_type": "stream",
     "text": [
      "              precision    recall  f1-score   support\n",
      "\n",
      "           B       0.97      0.87      0.92        71\n",
      "           M       0.82      0.95      0.88        43\n",
      "\n",
      "    accuracy                           0.90       114\n",
      "   macro avg       0.89      0.91      0.90       114\n",
      "weighted avg       0.91      0.90      0.90       114\n",
      "\n"
     ]
    }
   ],
   "source": [
    "print(classification_report(y_test,predictions))"
   ]
  },
  {
   "cell_type": "markdown",
   "id": "064cf322",
   "metadata": {},
   "source": [
    "## 3. SMOTE (Synthetic Minority Oversampling Technique)"
   ]
  },
  {
   "cell_type": "code",
   "execution_count": 36,
   "id": "5b53d785",
   "metadata": {},
   "outputs": [],
   "source": [
    "from imblearn.over_sampling import SMOTE"
   ]
  },
  {
   "cell_type": "code",
   "execution_count": 37,
   "id": "32574c87",
   "metadata": {},
   "outputs": [
    {
     "name": "stdout",
     "output_type": "stream",
     "text": [
      "Before SMOTE: \n",
      " B    286\n",
      "M    169\n",
      "Name: diagnosis, dtype: int64\n"
     ]
    }
   ],
   "source": [
    "print(\"Before SMOTE: \\n\", y_train.value_counts())"
   ]
  },
  {
   "cell_type": "code",
   "execution_count": 38,
   "id": "d4cfb23e",
   "metadata": {},
   "outputs": [],
   "source": [
    "smote = SMOTE()\n",
    "X_train_smote, y_train_smote  = smote.fit_resample(X_train, y_train)"
   ]
  },
  {
   "cell_type": "code",
   "execution_count": 39,
   "id": "bf7570ac",
   "metadata": {},
   "outputs": [
    {
     "name": "stdout",
     "output_type": "stream",
     "text": [
      "After SMOTE: \n",
      " B    286\n",
      "M    286\n",
      "Name: diagnosis, dtype: int64\n"
     ]
    }
   ],
   "source": [
    "print(\"After SMOTE: \\n\", y_train_smote.value_counts())"
   ]
  },
  {
   "cell_type": "code",
   "execution_count": 40,
   "id": "b99dd3fd",
   "metadata": {},
   "outputs": [
    {
     "data": {
      "text/plain": [
       "0.9385964912280702"
      ]
     },
     "execution_count": 40,
     "metadata": {},
     "output_type": "execute_result"
    }
   ],
   "source": [
    "knn =  KNeighborsClassifier(n_neighbors = 5, metric = \"euclidean\")\n",
    "knn.fit(X_train_smote[[\"radius_mean_normalized\",\"perimeter_mean_normalized\"]], y_train_smote)\n",
    "predictions = knn.predict(X_test[[\"radius_mean_normalized\",\"perimeter_mean_normalized\"]])\n",
    "test_accuracy = accuracy_score(y_test, predictions)\n",
    "test_accuracy"
   ]
  },
  {
   "cell_type": "code",
   "execution_count": 42,
   "id": "b92c23d8",
   "metadata": {},
   "outputs": [
    {
     "data": {
      "text/html": [
       "<div>\n",
       "<style scoped>\n",
       "    .dataframe tbody tr th:only-of-type {\n",
       "        vertical-align: middle;\n",
       "    }\n",
       "\n",
       "    .dataframe tbody tr th {\n",
       "        vertical-align: top;\n",
       "    }\n",
       "\n",
       "    .dataframe thead th {\n",
       "        text-align: right;\n",
       "    }\n",
       "</style>\n",
       "<table border=\"1\" class=\"dataframe\">\n",
       "  <thead>\n",
       "    <tr style=\"text-align: right;\">\n",
       "      <th></th>\n",
       "      <th>B</th>\n",
       "      <th>M</th>\n",
       "    </tr>\n",
       "  </thead>\n",
       "  <tbody>\n",
       "    <tr>\n",
       "      <th>B</th>\n",
       "      <td>64</td>\n",
       "      <td>7</td>\n",
       "    </tr>\n",
       "    <tr>\n",
       "      <th>M</th>\n",
       "      <td>0</td>\n",
       "      <td>43</td>\n",
       "    </tr>\n",
       "  </tbody>\n",
       "</table>\n",
       "</div>"
      ],
      "text/plain": [
       "    B   M\n",
       "B  64   7\n",
       "M   0  43"
      ]
     },
     "execution_count": 42,
     "metadata": {},
     "output_type": "execute_result"
    }
   ],
   "source": [
    "cm = confusion_matrix(y_test, predictions)\n",
    "pd.DataFrame(cm, columns = [\"B\",\"M\"], index = [\"B\",\"M\"])"
   ]
  },
  {
   "cell_type": "code",
   "execution_count": 43,
   "id": "e40657ef",
   "metadata": {},
   "outputs": [
    {
     "name": "stdout",
     "output_type": "stream",
     "text": [
      "              precision    recall  f1-score   support\n",
      "\n",
      "           B       1.00      0.90      0.95        71\n",
      "           M       0.86      1.00      0.92        43\n",
      "\n",
      "    accuracy                           0.94       114\n",
      "   macro avg       0.93      0.95      0.94       114\n",
      "weighted avg       0.95      0.94      0.94       114\n",
      "\n"
     ]
    }
   ],
   "source": [
    "print(classification_report(y_test,predictions))"
   ]
  },
  {
   "cell_type": "markdown",
   "id": "884d03f8",
   "metadata": {},
   "source": [
    "# Logistic Regression"
   ]
  },
  {
   "cell_type": "code",
   "execution_count": 44,
   "id": "e47f03de",
   "metadata": {},
   "outputs": [],
   "source": [
    "from sklearn.linear_model import LogisticRegression"
   ]
  },
  {
   "cell_type": "code",
   "execution_count": 45,
   "id": "879b2e9e",
   "metadata": {},
   "outputs": [
    {
     "data": {
      "text/plain": [
       "0.9298245614035088"
      ]
     },
     "execution_count": 45,
     "metadata": {},
     "output_type": "execute_result"
    }
   ],
   "source": [
    "log_clf = LogisticRegression()\n",
    "log_clf.fit(X_train[[\"radius_mean_normalized\",\"perimeter_mean_normalized\"]], y_train)\n",
    "predictions = log_clf.predict(X_test[[\"radius_mean_normalized\",\"perimeter_mean_normalized\"]])\n",
    "test_accuracy = accuracy_score(y_test, predictions)\n",
    "test_accuracy"
   ]
  },
  {
   "cell_type": "code",
   "execution_count": 46,
   "id": "620d8aaf",
   "metadata": {},
   "outputs": [
    {
     "data": {
      "text/html": [
       "<div>\n",
       "<style scoped>\n",
       "    .dataframe tbody tr th:only-of-type {\n",
       "        vertical-align: middle;\n",
       "    }\n",
       "\n",
       "    .dataframe tbody tr th {\n",
       "        vertical-align: top;\n",
       "    }\n",
       "\n",
       "    .dataframe thead th {\n",
       "        text-align: right;\n",
       "    }\n",
       "</style>\n",
       "<table border=\"1\" class=\"dataframe\">\n",
       "  <thead>\n",
       "    <tr style=\"text-align: right;\">\n",
       "      <th></th>\n",
       "      <th>B</th>\n",
       "      <th>M</th>\n",
       "    </tr>\n",
       "  </thead>\n",
       "  <tbody>\n",
       "    <tr>\n",
       "      <th>B</th>\n",
       "      <td>71</td>\n",
       "      <td>0</td>\n",
       "    </tr>\n",
       "    <tr>\n",
       "      <th>M</th>\n",
       "      <td>8</td>\n",
       "      <td>35</td>\n",
       "    </tr>\n",
       "  </tbody>\n",
       "</table>\n",
       "</div>"
      ],
      "text/plain": [
       "    B   M\n",
       "B  71   0\n",
       "M   8  35"
      ]
     },
     "execution_count": 46,
     "metadata": {},
     "output_type": "execute_result"
    }
   ],
   "source": [
    "cm = confusion_matrix(y_test, predictions)\n",
    "pd.DataFrame(cm, columns = [\"B\",\"M\"], index = [\"B\",\"M\"])"
   ]
  },
  {
   "cell_type": "code",
   "execution_count": 47,
   "id": "80c4cb73",
   "metadata": {},
   "outputs": [
    {
     "name": "stdout",
     "output_type": "stream",
     "text": [
      "              precision    recall  f1-score   support\n",
      "\n",
      "           B       0.90      1.00      0.95        71\n",
      "           M       1.00      0.81      0.90        43\n",
      "\n",
      "    accuracy                           0.93       114\n",
      "   macro avg       0.95      0.91      0.92       114\n",
      "weighted avg       0.94      0.93      0.93       114\n",
      "\n"
     ]
    }
   ],
   "source": [
    "print(classification_report(y_test,predictions))"
   ]
  },
  {
   "cell_type": "code",
   "execution_count": 48,
   "id": "e23ba0e4",
   "metadata": {},
   "outputs": [
    {
     "data": {
      "text/plain": [
       "0.9035087719298246"
      ]
     },
     "execution_count": 48,
     "metadata": {},
     "output_type": "execute_result"
    }
   ],
   "source": [
    "log_clf_balanced = LogisticRegression(class_weight = \"balanced\")\n",
    "log_clf_balanced.fit(X_train[[\"radius_mean_normalized\",\"perimeter_mean_normalized\"]], y_train)\n",
    "predictions = log_clf_balanced.predict(X_test[[\"radius_mean_normalized\",\"perimeter_mean_normalized\"]])\n",
    "test_accuracy = accuracy_score(y_test, predictions)\n",
    "test_accuracy"
   ]
  },
  {
   "cell_type": "code",
   "execution_count": 49,
   "id": "10ccfdbc",
   "metadata": {},
   "outputs": [
    {
     "data": {
      "text/html": [
       "<div>\n",
       "<style scoped>\n",
       "    .dataframe tbody tr th:only-of-type {\n",
       "        vertical-align: middle;\n",
       "    }\n",
       "\n",
       "    .dataframe tbody tr th {\n",
       "        vertical-align: top;\n",
       "    }\n",
       "\n",
       "    .dataframe thead th {\n",
       "        text-align: right;\n",
       "    }\n",
       "</style>\n",
       "<table border=\"1\" class=\"dataframe\">\n",
       "  <thead>\n",
       "    <tr style=\"text-align: right;\">\n",
       "      <th></th>\n",
       "      <th>B</th>\n",
       "      <th>M</th>\n",
       "    </tr>\n",
       "  </thead>\n",
       "  <tbody>\n",
       "    <tr>\n",
       "      <th>B</th>\n",
       "      <td>66</td>\n",
       "      <td>5</td>\n",
       "    </tr>\n",
       "    <tr>\n",
       "      <th>M</th>\n",
       "      <td>6</td>\n",
       "      <td>37</td>\n",
       "    </tr>\n",
       "  </tbody>\n",
       "</table>\n",
       "</div>"
      ],
      "text/plain": [
       "    B   M\n",
       "B  66   5\n",
       "M   6  37"
      ]
     },
     "execution_count": 49,
     "metadata": {},
     "output_type": "execute_result"
    }
   ],
   "source": [
    "cm = confusion_matrix(y_test, predictions)\n",
    "pd.DataFrame(cm, columns = [\"B\",\"M\"], index = [\"B\",\"M\"])"
   ]
  },
  {
   "cell_type": "code",
   "execution_count": 50,
   "id": "7f9a0365",
   "metadata": {},
   "outputs": [
    {
     "name": "stdout",
     "output_type": "stream",
     "text": [
      "              precision    recall  f1-score   support\n",
      "\n",
      "           B       0.92      0.93      0.92        71\n",
      "           M       0.88      0.86      0.87        43\n",
      "\n",
      "    accuracy                           0.90       114\n",
      "   macro avg       0.90      0.90      0.90       114\n",
      "weighted avg       0.90      0.90      0.90       114\n",
      "\n"
     ]
    }
   ],
   "source": [
    "print(classification_report(y_test,predictions))"
   ]
  },
  {
   "cell_type": "code",
   "execution_count": null,
   "id": "b321d828",
   "metadata": {},
   "outputs": [],
   "source": []
  }
 ],
 "metadata": {
  "kernelspec": {
   "display_name": "Python 3 (ipykernel)",
   "language": "python",
   "name": "python3"
  },
  "language_info": {
   "codemirror_mode": {
    "name": "ipython",
    "version": 3
   },
   "file_extension": ".py",
   "mimetype": "text/x-python",
   "name": "python",
   "nbconvert_exporter": "python",
   "pygments_lexer": "ipython3",
   "version": "3.10.7"
  }
 },
 "nbformat": 4,
 "nbformat_minor": 5
}
